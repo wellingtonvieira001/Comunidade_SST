{
  "nbformat": 4,
  "nbformat_minor": 0,
  "metadata": {
    "colab": {
      "provenance": [],
      "authorship_tag": "ABX9TyO6WUDhulFgdD1/pk2Z0mV7",
      "include_colab_link": true
    },
    "kernelspec": {
      "name": "python3",
      "display_name": "Python 3"
    },
    "language_info": {
      "name": "python"
    }
  },
  "cells": [
    {
      "cell_type": "markdown",
      "metadata": {
        "id": "view-in-github",
        "colab_type": "text"
      },
      "source": [
        "<a href=\"https://colab.research.google.com/github/wellingtonvieira001/Comunidade_SST/blob/main/Boto3_Use_case.ipynb\" target=\"_parent\"><img src=\"https://colab.research.google.com/assets/colab-badge.svg\" alt=\"Open In Colab\"/></a>"
      ]
    },
    {
      "cell_type": "code",
      "execution_count": null,
      "metadata": {
        "id": "dWk8LkMiVIko"
      },
      "outputs": [],
      "source": [
        "import boto3\n",
        "import configparser\n",
        "\n",
        "config = configparser.ConfigParser()\n",
        "config.read('config.cfg')\n",
        "\n",
        "s3 = boto3.client(\n",
        "    's3',\n",
        "    aws_access_key_id=config['aws-credentials']['ACCESS_KEY'],\n",
        "    aws_secret_access_key=config['aws-credentials']['SECRET_KEY'],\n",
        ")\n",
        "\n",
        "if __name__ == '__main__':\n",
        "    print('Listing Buckets')\n",
        "    response = s3.list_buckets()\n",
        "    for bucket in response['Buckets']:\n",
        "        print(f'    bucket: {bucket[\"Name\"]}')\n",
        "\n",
        "    print('Upload File')\n",
        "    response = s3.upload_file('data\\\\finalizada2020-07.csv', 'thedataengineer-bucket', 'finalizada2020-07.csv')\n",
        "\n",
        "    print('Listing files')\n",
        "    response = s3.list_objects(Bucket='thedataengineer-bucket')\n",
        "    for file in response['Contents']:\n",
        "        print(file)\n",
        "\n",
        "    print('Download File')\n",
        "    s3.download_file('thedataengineer-bucket', 'finalizada2020-07.csv', 'downloaded\\\\finalizada2020-07.csv')\n",
        "\n",
        "    print('Delete File')\n",
        "    s3.delete_object(Bucket='thedataengineer-bucket', Key='finalizada2020-07.csv')\n",
        "\n",
        "    print('Listing files')\n",
        "    response = s3.list_objects(Bucket='thedataengineer-bucket')\n",
        "    print(response)"
      ]
    }
  ]
}